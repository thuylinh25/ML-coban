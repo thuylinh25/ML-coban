{
 "cells": [
  {
   "cell_type": "code",
   "execution_count": 2,
   "metadata": {},
   "outputs": [],
   "source": [
    "import pandas as pd\n",
    "import numpy as np\n",
    "from sklearn import preprocessing\n",
    "import matplotlib.pyplot as plt \n",
    "plt.rc(\"font\", size=14)\n",
    "from sklearn.linear_model import LogisticRegression\n",
    "from sklearn.model_selection import train_test_split\n",
    "import seaborn as sns\n",
    "sns.set(style=\"white\")\n",
    "sns.set(style=\"whitegrid\", color_codes=True)"
   ]
  },
  {
   "cell_type": "markdown",
   "metadata": {},
   "source": [
    "## Data\n",
    "\n",
    "The data is related with direct marketing campaigns of a Portuguese banking institution. The marketing campaigns were based on phone calls. Often, more than one contact to the same client was required, in order to access if the product (bank term deposit) would be ('yes') or not ('no') subscribed.\n"
   ]
  },
  {
   "cell_type": "markdown",
   "metadata": {},
   "source": [
    "This dataset provides the customer information. It includes 41188 records and 21 fields. In this example, we use 10% of dataset"
   ]
  },
  {
   "cell_type": "code",
   "execution_count": 22,
   "metadata": {},
   "outputs": [
    {
     "name": "stdout",
     "output_type": "stream",
     "text": [
      "(4521, 17)\n",
      "['age', 'job', 'marital', 'education', 'default', 'balance', 'housing', 'loan', 'contact', 'day', 'month', 'duration', 'campaign', 'pdays', 'previous', 'poutcome', 'y']\n"
     ]
    }
   ],
   "source": [
    "data = pd.read_csv('bank.csv', header=0, delimiter=';')\n",
    "data = data.dropna()\n",
    "print(data.shape)\n",
    "print(list(data.columns))"
   ]
  },
  {
   "cell_type": "code",
   "execution_count": 23,
   "metadata": {},
   "outputs": [
    {
     "data": {
      "text/html": [
       "<div>\n",
       "<style scoped>\n",
       "    .dataframe tbody tr th:only-of-type {\n",
       "        vertical-align: middle;\n",
       "    }\n",
       "\n",
       "    .dataframe tbody tr th {\n",
       "        vertical-align: top;\n",
       "    }\n",
       "\n",
       "    .dataframe thead th {\n",
       "        text-align: right;\n",
       "    }\n",
       "</style>\n",
       "<table border=\"1\" class=\"dataframe\">\n",
       "  <thead>\n",
       "    <tr style=\"text-align: right;\">\n",
       "      <th></th>\n",
       "      <th>age</th>\n",
       "      <th>job</th>\n",
       "      <th>marital</th>\n",
       "      <th>education</th>\n",
       "      <th>default</th>\n",
       "      <th>balance</th>\n",
       "      <th>housing</th>\n",
       "      <th>loan</th>\n",
       "      <th>contact</th>\n",
       "      <th>day</th>\n",
       "      <th>month</th>\n",
       "      <th>duration</th>\n",
       "      <th>campaign</th>\n",
       "      <th>pdays</th>\n",
       "      <th>previous</th>\n",
       "      <th>poutcome</th>\n",
       "      <th>y</th>\n",
       "    </tr>\n",
       "  </thead>\n",
       "  <tbody>\n",
       "    <tr>\n",
       "      <th>0</th>\n",
       "      <td>30</td>\n",
       "      <td>unemployed</td>\n",
       "      <td>married</td>\n",
       "      <td>primary</td>\n",
       "      <td>no</td>\n",
       "      <td>1787</td>\n",
       "      <td>no</td>\n",
       "      <td>no</td>\n",
       "      <td>cellular</td>\n",
       "      <td>19</td>\n",
       "      <td>oct</td>\n",
       "      <td>79</td>\n",
       "      <td>1</td>\n",
       "      <td>-1</td>\n",
       "      <td>0</td>\n",
       "      <td>unknown</td>\n",
       "      <td>no</td>\n",
       "    </tr>\n",
       "    <tr>\n",
       "      <th>1</th>\n",
       "      <td>33</td>\n",
       "      <td>services</td>\n",
       "      <td>married</td>\n",
       "      <td>secondary</td>\n",
       "      <td>no</td>\n",
       "      <td>4789</td>\n",
       "      <td>yes</td>\n",
       "      <td>yes</td>\n",
       "      <td>cellular</td>\n",
       "      <td>11</td>\n",
       "      <td>may</td>\n",
       "      <td>220</td>\n",
       "      <td>1</td>\n",
       "      <td>339</td>\n",
       "      <td>4</td>\n",
       "      <td>failure</td>\n",
       "      <td>no</td>\n",
       "    </tr>\n",
       "    <tr>\n",
       "      <th>2</th>\n",
       "      <td>35</td>\n",
       "      <td>management</td>\n",
       "      <td>single</td>\n",
       "      <td>tertiary</td>\n",
       "      <td>no</td>\n",
       "      <td>1350</td>\n",
       "      <td>yes</td>\n",
       "      <td>no</td>\n",
       "      <td>cellular</td>\n",
       "      <td>16</td>\n",
       "      <td>apr</td>\n",
       "      <td>185</td>\n",
       "      <td>1</td>\n",
       "      <td>330</td>\n",
       "      <td>1</td>\n",
       "      <td>failure</td>\n",
       "      <td>no</td>\n",
       "    </tr>\n",
       "    <tr>\n",
       "      <th>3</th>\n",
       "      <td>30</td>\n",
       "      <td>management</td>\n",
       "      <td>married</td>\n",
       "      <td>tertiary</td>\n",
       "      <td>no</td>\n",
       "      <td>1476</td>\n",
       "      <td>yes</td>\n",
       "      <td>yes</td>\n",
       "      <td>unknown</td>\n",
       "      <td>3</td>\n",
       "      <td>jun</td>\n",
       "      <td>199</td>\n",
       "      <td>4</td>\n",
       "      <td>-1</td>\n",
       "      <td>0</td>\n",
       "      <td>unknown</td>\n",
       "      <td>no</td>\n",
       "    </tr>\n",
       "    <tr>\n",
       "      <th>4</th>\n",
       "      <td>59</td>\n",
       "      <td>blue-collar</td>\n",
       "      <td>married</td>\n",
       "      <td>secondary</td>\n",
       "      <td>no</td>\n",
       "      <td>0</td>\n",
       "      <td>yes</td>\n",
       "      <td>no</td>\n",
       "      <td>unknown</td>\n",
       "      <td>5</td>\n",
       "      <td>may</td>\n",
       "      <td>226</td>\n",
       "      <td>1</td>\n",
       "      <td>-1</td>\n",
       "      <td>0</td>\n",
       "      <td>unknown</td>\n",
       "      <td>no</td>\n",
       "    </tr>\n",
       "  </tbody>\n",
       "</table>\n",
       "</div>"
      ],
      "text/plain": [
       "   age          job  marital  education default  balance housing loan  \\\n",
       "0   30   unemployed  married    primary      no     1787      no   no   \n",
       "1   33     services  married  secondary      no     4789     yes  yes   \n",
       "2   35   management   single   tertiary      no     1350     yes   no   \n",
       "3   30   management  married   tertiary      no     1476     yes  yes   \n",
       "4   59  blue-collar  married  secondary      no        0     yes   no   \n",
       "\n",
       "    contact  day month  duration  campaign  pdays  previous poutcome   y  \n",
       "0  cellular   19   oct        79         1     -1         0  unknown  no  \n",
       "1  cellular   11   may       220         1    339         4  failure  no  \n",
       "2  cellular   16   apr       185         1    330         1  failure  no  \n",
       "3   unknown    3   jun       199         4     -1         0  unknown  no  \n",
       "4   unknown    5   may       226         1     -1         0  unknown  no  "
      ]
     },
     "execution_count": 23,
     "metadata": {},
     "output_type": "execute_result"
    }
   ],
   "source": [
    "data.head()"
   ]
  },
  {
   "cell_type": "markdown",
   "metadata": {},
   "source": [
    "#### Input variables"
   ]
  },
  {
   "cell_type": "markdown",
   "metadata": {},
   "source": [
    "1 - age (numeric)\n",
    "\n",
    "2 - job : type of job (categorical: 'admin.','blue-collar','entrepreneur','housemaid','management','retired','self-employed','services','student','technician','unemployed','unknown')\n",
    "\n",
    "3 - marital : marital status (categorical: 'divorced','married','single','unknown'; note: 'divorced' means divorced or widowed)\n",
    "\n",
    "4 - education (categorical: 'basic.4y','basic.6y','basic.9y','high.school','illiterate','professional.course','university.degree','unknown')\n",
    "\n",
    "5 - default: has credit in default? (categorical: 'no','yes','unknown')\n",
    "\n",
    "6 - housing: has housing loan? (categorical: 'no','yes','unknown')\n",
    "\n",
    "7 - loan: has personal loan? (categorical: 'no','yes','unknown')\n",
    "\n",
    "8 - contact: contact communication type (categorical: 'cellular','telephone')\n",
    "\n",
    "9 - month: last contact month of year (categorical: 'jan', 'feb', 'mar', ..., 'nov', 'dec')\n",
    "\n",
    "10 - day_of_week: last contact day of the week (categorical: 'mon','tue','wed','thu','fri')\n",
    "\n",
    "11 - duration: last contact duration, in seconds (numeric). Important note: this attribute highly affects the output target (e.g., if duration=0 then y='no'). Yet, the duration is not known before a call is performed. Also, after the end of the call y is obviously known. Thus, this input should only be included for benchmark purposes and should be discarded if the intention is to have a realistic predictive model.\n",
    "\n",
    "12 - campaign: number of contacts performed during this campaign and for this client (numeric, includes last contact)\n",
    "\n",
    "13 - pdays: number of days that passed by after the client was last contacted from a previous campaign (numeric; 999 means client was not previously contacted)\n",
    "\n",
    "14 - previous: number of contacts performed before this campaign and for this client (numeric)\n",
    "\n",
    "15 - poutcome: outcome of the previous marketing campaign (categorical: 'failure','nonexistent','success')\n",
    "\n",
    "16 - emp.var.rate: employment variation rate - (numeric)\n",
    "\n",
    "17 - cons.price.idx: consumer price index - (numeric)\n",
    "\n",
    "18 - cons.conf.idx: consumer confidence index - (numeric) \n",
    "\n",
    "19 - euribor3m: euribor 3 month rate - (numeric)\n",
    "\n",
    "20 - nr.employed: number of employees - (numeric)"
   ]
  },
  {
   "cell_type": "markdown",
   "metadata": {},
   "source": [
    "#### Predict variable (desired target):\n",
    "\n",
    "y - has the client subscribed a term deposit? (binary: '1','0')"
   ]
  },
  {
   "cell_type": "markdown",
   "metadata": {},
   "source": [
    "The education column of the dataset has many categories and we need to reduce the categories for a better modelling. The education column has the following categories:"
   ]
  },
  {
   "cell_type": "code",
   "execution_count": 14,
   "metadata": {},
   "outputs": [
    {
     "data": {
      "text/plain": [
       "array(['primary', 'secondary', 'tertiary', 'unknown'], dtype=object)"
      ]
     },
     "execution_count": 14,
     "metadata": {},
     "output_type": "execute_result"
    }
   ],
   "source": [
    "data['education'].unique()"
   ]
  },
  {
   "cell_type": "code",
   "execution_count": 33,
   "metadata": {},
   "outputs": [
    {
     "data": {
      "text/plain": [
       "array(['unemployed', 'services', 'management', 'blue-collar',\n",
       "       'self-employed', 'technician', 'entrepreneur', 'admin.', 'student',\n",
       "       'housemaid', 'retired', 'unknown'], dtype=object)"
      ]
     },
     "execution_count": 33,
     "metadata": {},
     "output_type": "execute_result"
    }
   ],
   "source": [
    "data['job'].unique()"
   ]
  },
  {
   "cell_type": "markdown",
   "metadata": {},
   "source": [
    "### Data exploration"
   ]
  },
  {
   "cell_type": "code",
   "execution_count": 15,
   "metadata": {},
   "outputs": [
    {
     "data": {
      "text/plain": [
       "no     4000\n",
       "yes     521\n",
       "Name: y, dtype: int64"
      ]
     },
     "execution_count": 15,
     "metadata": {},
     "output_type": "execute_result"
    }
   ],
   "source": [
    "data['y'].value_counts()"
   ]
  },
  {
   "cell_type": "code",
   "execution_count": 16,
   "metadata": {},
   "outputs": [
    {
     "data": {
      "image/png": "[encoded data removed]",
      "text/plain": [
       "<Figure size 432x288 with 1 Axes>"
      ]
     },
     "metadata": {},
     "output_type": "display_data"
    },
    {
     "data": {
      "text/plain": [
       "<Figure size 432x288 with 0 Axes>"
      ]
     },
     "metadata": {},
     "output_type": "display_data"
    }
   ],
   "source": [
    "sns.countplot(x='y',data=data, palette='hls')\n",
    "plt.show()\n",
    "plt.savefig('count_plot')"
   ]
  },
  {
   "cell_type": "markdown",
   "metadata": {},
   "source": [
    "There are 4000 no's and 521 yes's in the outcome variables."
   ]
  },
  {
   "cell_type": "markdown",
   "metadata": {},
   "source": [
    "Let's get a sense of the numbers across the two classes"
   ]
  },
  {
   "cell_type": "code",
   "execution_count": 18,
   "metadata": {},
   "outputs": [
    {
     "data": {
      "text/html": [
       "<div>\n",
       "<style scoped>\n",
       "    .dataframe tbody tr th:only-of-type {\n",
       "        vertical-align: middle;\n",
       "    }\n",
       "\n",
       "    .dataframe tbody tr th {\n",
       "        vertical-align: top;\n",
       "    }\n",
       "\n",
       "    .dataframe thead th {\n",
       "        text-align: right;\n",
       "    }\n",
       "</style>\n",
       "<table border=\"1\" class=\"dataframe\">\n",
       "  <thead>\n",
       "    <tr style=\"text-align: right;\">\n",
       "      <th></th>\n",
       "      <th>age</th>\n",
       "      <th>balance</th>\n",
       "      <th>day</th>\n",
       "      <th>duration</th>\n",
       "      <th>campaign</th>\n",
       "      <th>pdays</th>\n",
       "      <th>previous</th>\n",
       "    </tr>\n",
       "    <tr>\n",
       "      <th>y</th>\n",
       "      <th></th>\n",
       "      <th></th>\n",
       "      <th></th>\n",
       "      <th></th>\n",
       "      <th></th>\n",
       "      <th></th>\n",
       "      <th></th>\n",
       "    </tr>\n",
       "  </thead>\n",
       "  <tbody>\n",
       "    <tr>\n",
       "      <th>no</th>\n",
       "      <td>40.998000</td>\n",
       "      <td>1403.211750</td>\n",
       "      <td>15.948750</td>\n",
       "      <td>226.347500</td>\n",
       "      <td>2.862250</td>\n",
       "      <td>36.006000</td>\n",
       "      <td>0.471250</td>\n",
       "    </tr>\n",
       "    <tr>\n",
       "      <th>yes</th>\n",
       "      <td>42.491363</td>\n",
       "      <td>1571.955854</td>\n",
       "      <td>15.658349</td>\n",
       "      <td>552.742802</td>\n",
       "      <td>2.266795</td>\n",
       "      <td>68.639155</td>\n",
       "      <td>1.090211</td>\n",
       "    </tr>\n",
       "  </tbody>\n",
       "</table>\n",
       "</div>"
      ],
      "text/plain": [
       "           age      balance        day    duration  campaign      pdays  \\\n",
       "y                                                                         \n",
       "no   40.998000  1403.211750  15.948750  226.347500  2.862250  36.006000   \n",
       "yes  42.491363  1571.955854  15.658349  552.742802  2.266795  68.639155   \n",
       "\n",
       "     previous  \n",
       "y              \n",
       "no   0.471250  \n",
       "yes  1.090211  "
      ]
     },
     "execution_count": 18,
     "metadata": {},
     "output_type": "execute_result"
    }
   ],
   "source": [
    "data.groupby('y').mean()"
   ]
  },
  {
   "cell_type": "markdown",
   "metadata": {},
   "source": [
    "Observations:\n",
    "\n",
    "The average age of customers who bought the term deposit is higher than that of the customers who didn't.\n",
    "The pdays (days since the customer was last contacted) is understandably lower for the customers who bought it. The lower the pdays, the better the memory of the last call and hence the better chances of a sale.\n",
    "Surprisingly, campaigns (number of contacts or calls made during the current campaign) are lower for customers who bought the term deposit."
   ]
  },
  {
   "cell_type": "markdown",
   "metadata": {},
   "source": [
    "We can calculate categorical means for other categorical variables such as education and marital status to get a more detailed sense of our data."
   ]
  },
  {
   "cell_type": "code",
   "execution_count": 19,
   "metadata": {},
   "outputs": [
    {
     "data": {
      "text/html": [
       "<div>\n",
       "<style scoped>\n",
       "    .dataframe tbody tr th:only-of-type {\n",
       "        vertical-align: middle;\n",
       "    }\n",
       "\n",
       "    .dataframe tbody tr th {\n",
       "        vertical-align: top;\n",
       "    }\n",
       "\n",
       "    .dataframe thead th {\n",
       "        text-align: right;\n",
       "    }\n",
       "</style>\n",
       "<table border=\"1\" class=\"dataframe\">\n",
       "  <thead>\n",
       "    <tr style=\"text-align: right;\">\n",
       "      <th></th>\n",
       "      <th>age</th>\n",
       "      <th>balance</th>\n",
       "      <th>day</th>\n",
       "      <th>duration</th>\n",
       "      <th>campaign</th>\n",
       "      <th>pdays</th>\n",
       "      <th>previous</th>\n",
       "    </tr>\n",
       "    <tr>\n",
       "      <th>job</th>\n",
       "      <th></th>\n",
       "      <th></th>\n",
       "      <th></th>\n",
       "      <th></th>\n",
       "      <th></th>\n",
       "      <th></th>\n",
       "      <th></th>\n",
       "    </tr>\n",
       "  </thead>\n",
       "  <tbody>\n",
       "    <tr>\n",
       "      <th>admin.</th>\n",
       "      <td>39.682008</td>\n",
       "      <td>1226.736402</td>\n",
       "      <td>16.324268</td>\n",
       "      <td>234.669456</td>\n",
       "      <td>2.631799</td>\n",
       "      <td>49.993724</td>\n",
       "      <td>0.644351</td>\n",
       "    </tr>\n",
       "    <tr>\n",
       "      <th>blue-collar</th>\n",
       "      <td>40.156448</td>\n",
       "      <td>1085.161734</td>\n",
       "      <td>15.482030</td>\n",
       "      <td>278.161734</td>\n",
       "      <td>2.846723</td>\n",
       "      <td>41.590909</td>\n",
       "      <td>0.493658</td>\n",
       "    </tr>\n",
       "    <tr>\n",
       "      <th>entrepreneur</th>\n",
       "      <td>42.011905</td>\n",
       "      <td>1645.125000</td>\n",
       "      <td>15.255952</td>\n",
       "      <td>285.476190</td>\n",
       "      <td>2.589286</td>\n",
       "      <td>32.273810</td>\n",
       "      <td>0.428571</td>\n",
       "    </tr>\n",
       "    <tr>\n",
       "      <th>housemaid</th>\n",
       "      <td>47.339286</td>\n",
       "      <td>2083.803571</td>\n",
       "      <td>15.294643</td>\n",
       "      <td>292.633929</td>\n",
       "      <td>2.500000</td>\n",
       "      <td>26.401786</td>\n",
       "      <td>0.357143</td>\n",
       "    </tr>\n",
       "    <tr>\n",
       "      <th>management</th>\n",
       "      <td>40.540764</td>\n",
       "      <td>1766.928793</td>\n",
       "      <td>16.254902</td>\n",
       "      <td>260.536636</td>\n",
       "      <td>2.973168</td>\n",
       "      <td>40.968008</td>\n",
       "      <td>0.549020</td>\n",
       "    </tr>\n",
       "    <tr>\n",
       "      <th>retired</th>\n",
       "      <td>61.869565</td>\n",
       "      <td>2319.191304</td>\n",
       "      <td>15.556522</td>\n",
       "      <td>285.656522</td>\n",
       "      <td>2.465217</td>\n",
       "      <td>35.073913</td>\n",
       "      <td>0.591304</td>\n",
       "    </tr>\n",
       "    <tr>\n",
       "      <th>self-employed</th>\n",
       "      <td>41.453552</td>\n",
       "      <td>1392.409836</td>\n",
       "      <td>16.180328</td>\n",
       "      <td>264.125683</td>\n",
       "      <td>3.278689</td>\n",
       "      <td>28.256831</td>\n",
       "      <td>0.590164</td>\n",
       "    </tr>\n",
       "    <tr>\n",
       "      <th>services</th>\n",
       "      <td>38.570743</td>\n",
       "      <td>1103.956835</td>\n",
       "      <td>15.515588</td>\n",
       "      <td>262.486811</td>\n",
       "      <td>2.822542</td>\n",
       "      <td>36.371703</td>\n",
       "      <td>0.443645</td>\n",
       "    </tr>\n",
       "    <tr>\n",
       "      <th>student</th>\n",
       "      <td>26.821429</td>\n",
       "      <td>1543.821429</td>\n",
       "      <td>16.392857</td>\n",
       "      <td>248.690476</td>\n",
       "      <td>2.392857</td>\n",
       "      <td>45.714286</td>\n",
       "      <td>0.964286</td>\n",
       "    </tr>\n",
       "    <tr>\n",
       "      <th>technician</th>\n",
       "      <td>39.470052</td>\n",
       "      <td>1330.996094</td>\n",
       "      <td>16.183594</td>\n",
       "      <td>252.178385</td>\n",
       "      <td>2.731771</td>\n",
       "      <td>39.265625</td>\n",
       "      <td>0.576823</td>\n",
       "    </tr>\n",
       "    <tr>\n",
       "      <th>unemployed</th>\n",
       "      <td>40.906250</td>\n",
       "      <td>1089.421875</td>\n",
       "      <td>16.093750</td>\n",
       "      <td>301.265625</td>\n",
       "      <td>2.679688</td>\n",
       "      <td>36.625000</td>\n",
       "      <td>0.484375</td>\n",
       "    </tr>\n",
       "    <tr>\n",
       "      <th>unknown</th>\n",
       "      <td>48.105263</td>\n",
       "      <td>1501.710526</td>\n",
       "      <td>15.842105</td>\n",
       "      <td>216.921053</td>\n",
       "      <td>2.552632</td>\n",
       "      <td>36.236842</td>\n",
       "      <td>0.500000</td>\n",
       "    </tr>\n",
       "  </tbody>\n",
       "</table>\n",
       "</div>"
      ],
      "text/plain": [
       "                     age      balance        day    duration  campaign  \\\n",
       "job                                                                      \n",
       "admin.         39.682008  1226.736402  16.324268  234.669456  2.631799   \n",
       "blue-collar    40.156448  1085.161734  15.482030  278.161734  2.846723   \n",
       "entrepreneur   42.011905  1645.125000  15.255952  285.476190  2.589286   \n",
       "housemaid      47.339286  2083.803571  15.294643  292.633929  2.500000   \n",
       "management     40.540764  1766.928793  16.254902  260.536636  2.973168   \n",
       "retired        61.869565  2319.191304  15.556522  285.656522  2.465217   \n",
       "self-employed  41.453552  1392.409836  16.180328  264.125683  3.278689   \n",
       "services       38.570743  1103.956835  15.515588  262.486811  2.822542   \n",
       "student        26.821429  1543.821429  16.392857  248.690476  2.392857   \n",
       "technician     39.470052  1330.996094  16.183594  252.178385  2.731771   \n",
       "unemployed     40.906250  1089.421875  16.093750  301.265625  2.679688   \n",
       "unknown        48.105263  1501.710526  15.842105  216.921053  2.552632   \n",
       "\n",
       "                   pdays  previous  \n",
       "job                                 \n",
       "admin.         49.993724  0.644351  \n",
       "blue-collar    41.590909  0.493658  \n",
       "entrepreneur   32.273810  0.428571  \n",
       "housemaid      26.401786  0.357143  \n",
       "management     40.968008  0.549020  \n",
       "retired        35.073913  0.591304  \n",
       "self-employed  28.256831  0.590164  \n",
       "services       36.371703  0.443645  \n",
       "student        45.714286  0.964286  \n",
       "technician     39.265625  0.576823  \n",
       "unemployed     36.625000  0.484375  \n",
       "unknown        36.236842  0.500000  "
      ]
     },
     "execution_count": 19,
     "metadata": {},
     "output_type": "execute_result"
    }
   ],
   "source": [
    "data.groupby('job').mean()"
   ]
  },
  {
   "cell_type": "code",
   "execution_count": 20,
   "metadata": {},
   "outputs": [
    {
     "data": {
      "text/html": [
       "<div>\n",
       "<style scoped>\n",
       "    .dataframe tbody tr th:only-of-type {\n",
       "        vertical-align: middle;\n",
       "    }\n",
       "\n",
       "    .dataframe tbody tr th {\n",
       "        vertical-align: top;\n",
       "    }\n",
       "\n",
       "    .dataframe thead th {\n",
       "        text-align: right;\n",
       "    }\n",
       "</style>\n",
       "<table border=\"1\" class=\"dataframe\">\n",
       "  <thead>\n",
       "    <tr style=\"text-align: right;\">\n",
       "      <th></th>\n",
       "      <th>age</th>\n",
       "      <th>balance</th>\n",
       "      <th>day</th>\n",
       "      <th>duration</th>\n",
       "      <th>campaign</th>\n",
       "      <th>pdays</th>\n",
       "      <th>previous</th>\n",
       "    </tr>\n",
       "    <tr>\n",
       "      <th>marital</th>\n",
       "      <th></th>\n",
       "      <th></th>\n",
       "      <th></th>\n",
       "      <th></th>\n",
       "      <th></th>\n",
       "      <th></th>\n",
       "      <th></th>\n",
       "    </tr>\n",
       "  </thead>\n",
       "  <tbody>\n",
       "    <tr>\n",
       "      <th>divorced</th>\n",
       "      <td>45.475379</td>\n",
       "      <td>1122.390152</td>\n",
       "      <td>15.753788</td>\n",
       "      <td>279.232955</td>\n",
       "      <td>2.604167</td>\n",
       "      <td>38.827652</td>\n",
       "      <td>0.439394</td>\n",
       "    </tr>\n",
       "    <tr>\n",
       "      <th>married</th>\n",
       "      <td>43.454415</td>\n",
       "      <td>1463.195567</td>\n",
       "      <td>15.905971</td>\n",
       "      <td>256.528781</td>\n",
       "      <td>2.847336</td>\n",
       "      <td>38.466929</td>\n",
       "      <td>0.519128</td>\n",
       "    </tr>\n",
       "    <tr>\n",
       "      <th>single</th>\n",
       "      <td>33.927258</td>\n",
       "      <td>1460.414716</td>\n",
       "      <td>16.008361</td>\n",
       "      <td>274.601171</td>\n",
       "      <td>2.751672</td>\n",
       "      <td>43.220736</td>\n",
       "      <td>0.642977</td>\n",
       "    </tr>\n",
       "  </tbody>\n",
       "</table>\n",
       "</div>"
      ],
      "text/plain": [
       "                age      balance        day    duration  campaign      pdays  \\\n",
       "marital                                                                        \n",
       "divorced  45.475379  1122.390152  15.753788  279.232955  2.604167  38.827652   \n",
       "married   43.454415  1463.195567  15.905971  256.528781  2.847336  38.466929   \n",
       "single    33.927258  1460.414716  16.008361  274.601171  2.751672  43.220736   \n",
       "\n",
       "          previous  \n",
       "marital             \n",
       "divorced  0.439394  \n",
       "married   0.519128  \n",
       "single    0.642977  "
      ]
     },
     "execution_count": 20,
     "metadata": {},
     "output_type": "execute_result"
    }
   ],
   "source": [
    "data.groupby('marital').mean()"
   ]
  },
  {
   "cell_type": "code",
   "execution_count": 21,
   "metadata": {},
   "outputs": [
    {
     "data": {
      "text/html": [
       "<div>\n",
       "<style scoped>\n",
       "    .dataframe tbody tr th:only-of-type {\n",
       "        vertical-align: middle;\n",
       "    }\n",
       "\n",
       "    .dataframe tbody tr th {\n",
       "        vertical-align: top;\n",
       "    }\n",
       "\n",
       "    .dataframe thead th {\n",
       "        text-align: right;\n",
       "    }\n",
       "</style>\n",
       "<table border=\"1\" class=\"dataframe\">\n",
       "  <thead>\n",
       "    <tr style=\"text-align: right;\">\n",
       "      <th></th>\n",
       "      <th>age</th>\n",
       "      <th>balance</th>\n",
       "      <th>day</th>\n",
       "      <th>duration</th>\n",
       "      <th>campaign</th>\n",
       "      <th>pdays</th>\n",
       "      <th>previous</th>\n",
       "    </tr>\n",
       "    <tr>\n",
       "      <th>education</th>\n",
       "      <th></th>\n",
       "      <th></th>\n",
       "      <th></th>\n",
       "      <th></th>\n",
       "      <th></th>\n",
       "      <th></th>\n",
       "      <th></th>\n",
       "    </tr>\n",
       "  </thead>\n",
       "  <tbody>\n",
       "    <tr>\n",
       "      <th>primary</th>\n",
       "      <td>46.833333</td>\n",
       "      <td>1411.544248</td>\n",
       "      <td>15.505900</td>\n",
       "      <td>261.709440</td>\n",
       "      <td>2.865782</td>\n",
       "      <td>35.069322</td>\n",
       "      <td>0.460177</td>\n",
       "    </tr>\n",
       "    <tr>\n",
       "      <th>secondary</th>\n",
       "      <td>40.062446</td>\n",
       "      <td>1196.814397</td>\n",
       "      <td>15.977884</td>\n",
       "      <td>269.863833</td>\n",
       "      <td>2.734172</td>\n",
       "      <td>40.934085</td>\n",
       "      <td>0.528621</td>\n",
       "    </tr>\n",
       "    <tr>\n",
       "      <th>tertiary</th>\n",
       "      <td>39.645926</td>\n",
       "      <td>1775.423704</td>\n",
       "      <td>16.009630</td>\n",
       "      <td>256.881481</td>\n",
       "      <td>2.901481</td>\n",
       "      <td>39.824444</td>\n",
       "      <td>0.612593</td>\n",
       "    </tr>\n",
       "    <tr>\n",
       "      <th>unknown</th>\n",
       "      <td>45.299465</td>\n",
       "      <td>1701.245989</td>\n",
       "      <td>15.946524</td>\n",
       "      <td>250.449198</td>\n",
       "      <td>2.486631</td>\n",
       "      <td>41.983957</td>\n",
       "      <td>0.508021</td>\n",
       "    </tr>\n",
       "  </tbody>\n",
       "</table>\n",
       "</div>"
      ],
      "text/plain": [
       "                 age      balance        day    duration  campaign      pdays  \\\n",
       "education                                                                       \n",
       "primary    46.833333  1411.544248  15.505900  261.709440  2.865782  35.069322   \n",
       "secondary  40.062446  1196.814397  15.977884  269.863833  2.734172  40.934085   \n",
       "tertiary   39.645926  1775.423704  16.009630  256.881481  2.901481  39.824444   \n",
       "unknown    45.299465  1701.245989  15.946524  250.449198  2.486631  41.983957   \n",
       "\n",
       "           previous  \n",
       "education            \n",
       "primary    0.460177  \n",
       "secondary  0.528621  \n",
       "tertiary   0.612593  \n",
       "unknown    0.508021  "
      ]
     },
     "execution_count": 21,
     "metadata": {},
     "output_type": "execute_result"
    }
   ],
   "source": [
    "data.groupby('education').mean()"
   ]
  },
  {
   "cell_type": "markdown",
   "metadata": {},
   "source": [
    "Visualizations"
   ]
  },
  {
   "cell_type": "code",
   "execution_count": 24,
   "metadata": {},
   "outputs": [
    {
     "data": {
      "image/png": "[encoded data removed]",
      "text/plain": [
       "<Figure size 432x288 with 1 Axes>"
      ]
     },
     "metadata": {
      "needs_background": "light"
     },
     "output_type": "display_data"
    }
   ],
   "source": [
    "%matplotlib inline\n",
    "pd.crosstab(data.job,data.y).plot(kind='bar')\n",
    "plt.title('Purchase Frequency for Job Title')\n",
    "plt.xlabel('Job')\n",
    "plt.ylabel('Frequency of Purchase')\n",
    "plt.savefig('purchase_fre_job')"
   ]
  },
  {
   "cell_type": "markdown",
   "metadata": {},
   "source": [
    "The frequency of purchase of the deposit depends a great deal on the job title. Thus, the job title can be a good predictor of the outcome variable."
   ]
  },
  {
   "cell_type": "code",
   "execution_count": 25,
   "metadata": {},
   "outputs": [
    {
     "data": {
      "image/png": "[encoded data removed]",
      "text/plain": [
       "<Figure size 432x288 with 1 Axes>"
      ]
     },
     "metadata": {
      "needs_background": "light"
     },
     "output_type": "display_data"
    }
   ],
   "source": [
    "table=pd.crosstab(data.marital,data.y)\n",
    "table.div(table.sum(1).astype(float), axis=0).plot(kind='bar', stacked=True)\n",
    "plt.title('Stacked Bar Chart of Marital Status vs Purchase')\n",
    "plt.xlabel('Marital Status')\n",
    "plt.ylabel('Proportion of Customers')\n",
    "plt.savefig('mariral_vs_pur_stack')"
   ]
  },
  {
   "cell_type": "markdown",
   "metadata": {},
   "source": [
    "Hard to see, but the marital status does not seem a strong predictor for the outcome variable."
   ]
  },
  {
   "cell_type": "code",
   "execution_count": 26,
   "metadata": {},
   "outputs": [
    {
     "data": {
      "image/png": "[encoded data removed]",
      "text/plain": [
       "<Figure size 432x288 with 1 Axes>"
      ]
     },
     "metadata": {
      "needs_background": "light"
     },
     "output_type": "display_data"
    }
   ],
   "source": [
    "table=pd.crosstab(data.education,data.y)\n",
    "table.div(table.sum(1).astype(float), axis=0).plot(kind='bar', stacked=True)\n",
    "plt.title('Stacked Bar Chart of Education vs Purchase')\n",
    "plt.xlabel('Education')\n",
    "plt.ylabel('Proportion of Customers')\n",
    "plt.savefig('edu_vs_pur_stack')"
   ]
  },
  {
   "cell_type": "code",
   "execution_count": 45,
   "metadata": {},
   "outputs": [
    {
     "data": {
      "image/png": "[encoded data removed]",
      "text/plain": [
       "<Figure size 432x288 with 1 Axes>"
      ]
     },
     "metadata": {
      "needs_background": "light"
     },
     "output_type": "display_data"
    }
   ],
   "source": [
    "pd.crosstab(data.day,data.y).plot(kind='bar')\n",
    "plt.title('Purchase Frequency for Day')\n",
    "plt.xlabel('Day')\n",
    "plt.ylabel('Frequency of Purchase')\n",
    "plt.savefig('pur_fre_day_bar')"
   ]
  },
  {
   "cell_type": "markdown",
   "metadata": {},
   "source": [
    "Education seems a good predictor of the outcome variable."
   ]
  },
  {
   "cell_type": "markdown",
   "metadata": {},
   "source": [
    "Day of week may not be a good predictor of the outcome"
   ]
  },
  {
   "cell_type": "code",
   "execution_count": 28,
   "metadata": {},
   "outputs": [
    {
     "data": {
      "image/png": "[encoded data removed]",
      "text/plain": [
       "<Figure size 432x288 with 1 Axes>"
      ]
     },
     "metadata": {
      "needs_background": "light"
     },
     "output_type": "display_data"
    }
   ],
   "source": [
    "pd.crosstab(data.month,data.y).plot(kind='bar')\n",
    "plt.title('Purchase Frequency for Month')\n",
    "plt.xlabel('Month')\n",
    "plt.ylabel('Frequency of Purchase')\n",
    "plt.savefig('pur_fre_month_bar')"
   ]
  },
  {
   "cell_type": "markdown",
   "metadata": {},
   "source": [
    "Month might be a good predictor of the outcome variable"
   ]
  },
  {
   "cell_type": "code",
   "execution_count": 29,
   "metadata": {},
   "outputs": [
    {
     "data": {
      "image/png": "[encoded data removed]",
      "text/plain": [
       "<Figure size 432x288 with 1 Axes>"
      ]
     },
     "metadata": {
      "needs_background": "light"
     },
     "output_type": "display_data"
    }
   ],
   "source": [
    "data.age.hist()\n",
    "plt.title('Histogram of Age')\n",
    "plt.xlabel('Age')\n",
    "plt.ylabel('Frequency')\n",
    "plt.savefig('hist_age')"
   ]
  },
  {
   "cell_type": "markdown",
   "metadata": {},
   "source": [
    "The most of the customers of the bank in this dataset are in the age range of 30-40."
   ]
  },
  {
   "cell_type": "code",
   "execution_count": 30,
   "metadata": {},
   "outputs": [
    {
     "data": {
      "image/png": "[encoded data removed]",
      "text/plain": [
       "<Figure size 432x288 with 1 Axes>"
      ]
     },
     "metadata": {
      "needs_background": "light"
     },
     "output_type": "display_data"
    }
   ],
   "source": [
    "pd.crosstab(data.poutcome,data.y).plot(kind='bar')\n",
    "plt.title('Purchase Frequency for Poutcome')\n",
    "plt.xlabel('Poutcome')\n",
    "plt.ylabel('Frequency of Purchase')\n",
    "plt.savefig('pur_fre_pout_bar')"
   ]
  },
  {
   "cell_type": "markdown",
   "metadata": {},
   "source": [
    "Poutcome seems to be a good predictor of the outcome variable."
   ]
  },
  {
   "cell_type": "markdown",
   "metadata": {},
   "source": [
    "### Create dummy variables"
   ]
  },
  {
   "cell_type": "code",
   "execution_count": 35,
   "metadata": {},
   "outputs": [
    {
     "data": {
      "text/plain": [
       "array(['unemployed', 'services', 'management', 'blue-collar',\n",
       "       'self-employed', 'technician', 'entrepreneur', 'admin.', 'student',\n",
       "       'housemaid', 'retired', 'unknown'], dtype=object)"
      ]
     },
     "execution_count": 35,
     "metadata": {},
     "output_type": "execute_result"
    }
   ],
   "source": [
    "data['job'].unique()"
   ]
  },
  {
   "cell_type": "code",
   "execution_count": 46,
   "metadata": {},
   "outputs": [],
   "source": [
    "cat_vars=['job','marital','education','default','housing','loan','contact','month','day','poutcome']\n",
    "for var in cat_vars:\n",
    "    cat_list='var'+'_'+ var\n",
    "    cat_list = pd.get_dummies(data[var], prefix=var)\n",
    "    data1=data.join(cat_list, lsuffix='_left')\n",
    "    data=data1"
   ]
  },
  {
   "cell_type": "code",
   "execution_count": 47,
   "metadata": {},
   "outputs": [],
   "source": [
    "cat_vars=['job','marital','education','default','housing','loan','contact','month','day','poutcome']\n",
    "data_vars=data.columns.values.tolist()\n",
    "to_keep=[i for i in data_vars if i not in cat_vars]"
   ]
  },
  {
   "cell_type": "code",
   "execution_count": 48,
   "metadata": {},
   "outputs": [
    {
     "data": {
      "text/plain": [
       "array(['age', 'balance', 'duration', 'campaign', 'pdays', 'previous', 'y',\n",
       "       'job_admin._left', 'job_admin._left', 'job_admin._left',\n",
       "       'job_admin._left', 'job_blue-collar_left', 'job_blue-collar_left',\n",
       "       'job_blue-collar_left', 'job_blue-collar_left',\n",
       "       'job_entrepreneur_left', 'job_entrepreneur_left',\n",
       "       'job_entrepreneur_left', 'job_entrepreneur_left',\n",
       "       'job_housemaid_left', 'job_housemaid_left', 'job_housemaid_left',\n",
       "       'job_housemaid_left', 'job_management_left', 'job_management_left',\n",
       "       'job_management_left', 'job_management_left', 'job_retired_left',\n",
       "       'job_retired_left', 'job_retired_left', 'job_retired_left',\n",
       "       'job_self-employed_left', 'job_self-employed_left',\n",
       "       'job_self-employed_left', 'job_self-employed_left',\n",
       "       'job_services_left', 'job_services_left', 'job_services_left',\n",
       "       'job_services_left', 'job_student_left', 'job_student_left',\n",
       "       'job_student_left', 'job_student_left', 'job_technician_left',\n",
       "       'job_technician_left', 'job_technician_left',\n",
       "       'job_technician_left', 'job_unemployed_left',\n",
       "       'job_unemployed_left', 'job_unemployed_left',\n",
       "       'job_unemployed_left', 'job_unknown_left', 'job_unknown_left',\n",
       "       'job_unknown_left', 'job_unknown_left', 'marital_divorced_left',\n",
       "       'marital_divorced_left', 'marital_divorced_left',\n",
       "       'marital_divorced_left', 'marital_married_left',\n",
       "       'marital_married_left', 'marital_married_left',\n",
       "       'marital_married_left', 'marital_single_left',\n",
       "       'marital_single_left', 'marital_single_left',\n",
       "       'marital_single_left', 'education_primary_left',\n",
       "       'education_primary_left', 'education_primary_left',\n",
       "       'education_primary_left', 'education_secondary_left',\n",
       "       'education_secondary_left', 'education_secondary_left',\n",
       "       'education_secondary_left', 'education_tertiary_left',\n",
       "       'education_tertiary_left', 'education_tertiary_left',\n",
       "       'education_tertiary_left', 'education_unknown_left',\n",
       "       'education_unknown_left', 'education_unknown_left',\n",
       "       'education_unknown_left', 'default_no_left', 'default_no_left',\n",
       "       'default_no_left', 'default_no_left', 'default_yes_left',\n",
       "       'default_yes_left', 'default_yes_left', 'default_yes_left',\n",
       "       'housing_no_left', 'housing_no_left', 'housing_no_left',\n",
       "       'housing_no_left', 'housing_yes_left', 'housing_yes_left',\n",
       "       'housing_yes_left', 'housing_yes_left', 'loan_no_left',\n",
       "       'loan_no_left', 'loan_no_left', 'loan_no_left', 'loan_yes_left',\n",
       "       'loan_yes_left', 'loan_yes_left', 'loan_yes_left',\n",
       "       'contact_cellular_left', 'contact_cellular_left',\n",
       "       'contact_cellular_left', 'contact_cellular_left',\n",
       "       'contact_telephone_left', 'contact_telephone_left',\n",
       "       'contact_telephone_left', 'contact_telephone_left',\n",
       "       'contact_unknown_left', 'contact_unknown_left',\n",
       "       'contact_unknown_left', 'contact_unknown_left', 'month_apr_left',\n",
       "       'month_apr_left', 'month_apr_left', 'month_apr_left',\n",
       "       'month_aug_left', 'month_aug_left', 'month_aug_left',\n",
       "       'month_aug_left', 'month_dec_left', 'month_dec_left',\n",
       "       'month_dec_left', 'month_dec_left', 'month_feb_left',\n",
       "       'month_feb_left', 'month_feb_left', 'month_feb_left',\n",
       "       'month_jan_left', 'month_jan_left', 'month_jan_left',\n",
       "       'month_jan_left', 'month_jul_left', 'month_jul_left',\n",
       "       'month_jul_left', 'month_jul_left', 'month_jun_left',\n",
       "       'month_jun_left', 'month_jun_left', 'month_jun_left',\n",
       "       'month_mar_left', 'month_mar_left', 'month_mar_left',\n",
       "       'month_mar_left', 'month_may_left', 'month_may_left',\n",
       "       'month_may_left', 'month_may_left', 'month_nov_left',\n",
       "       'month_nov_left', 'month_nov_left', 'month_nov_left',\n",
       "       'month_oct_left', 'month_oct_left', 'month_oct_left',\n",
       "       'month_oct_left', 'month_sep_left', 'month_sep_left',\n",
       "       'month_sep_left', 'month_sep_left', 'admin.', 'blue-collar',\n",
       "       'entrepreneur', 'housemaid', 'management', 'retired',\n",
       "       'self-employed', 'services', 'student', 'technician', 'unemployed',\n",
       "       'unknown', 'divorced', 'married', 'single', 'job_admin._left',\n",
       "       'job_admin._left', 'job_admin._left', 'job_admin._left',\n",
       "       'job_blue-collar_left', 'job_blue-collar_left',\n",
       "       'job_blue-collar_left', 'job_blue-collar_left',\n",
       "       'job_entrepreneur_left', 'job_entrepreneur_left',\n",
       "       'job_entrepreneur_left', 'job_entrepreneur_left',\n",
       "       'job_housemaid_left', 'job_housemaid_left', 'job_housemaid_left',\n",
       "       'job_housemaid_left', 'job_management_left', 'job_management_left',\n",
       "       'job_management_left', 'job_management_left', 'job_retired_left',\n",
       "       'job_retired_left', 'job_retired_left', 'job_retired_left',\n",
       "       'job_self-employed_left', 'job_self-employed_left',\n",
       "       'job_self-employed_left', 'job_self-employed_left',\n",
       "       'job_services_left', 'job_services_left', 'job_services_left',\n",
       "       'job_services_left', 'job_student_left', 'job_student_left',\n",
       "       'job_student_left', 'job_student_left', 'job_technician_left',\n",
       "       'job_technician_left', 'job_technician_left',\n",
       "       'job_technician_left', 'job_unemployed_left',\n",
       "       'job_unemployed_left', 'job_unemployed_left',\n",
       "       'job_unemployed_left', 'job_unknown_left', 'job_unknown_left',\n",
       "       'job_unknown_left', 'job_unknown_left', 'marital_divorced_left',\n",
       "       'marital_divorced_left', 'marital_divorced_left',\n",
       "       'marital_divorced_left', 'marital_married_left',\n",
       "       'marital_married_left', 'marital_married_left',\n",
       "       'marital_married_left', 'marital_single_left',\n",
       "       'marital_single_left', 'marital_single_left',\n",
       "       'marital_single_left', 'education_primary_left',\n",
       "       'education_primary_left', 'education_primary_left',\n",
       "       'education_primary_left', 'education_secondary_left',\n",
       "       'education_secondary_left', 'education_secondary_left',\n",
       "       'education_secondary_left', 'education_tertiary_left',\n",
       "       'education_tertiary_left', 'education_tertiary_left',\n",
       "       'education_tertiary_left', 'education_unknown_left',\n",
       "       'education_unknown_left', 'education_unknown_left',\n",
       "       'education_unknown_left', 'default_no_left', 'default_no_left',\n",
       "       'default_no_left', 'default_no_left', 'default_yes_left',\n",
       "       'default_yes_left', 'default_yes_left', 'default_yes_left',\n",
       "       'housing_no_left', 'housing_no_left', 'housing_no_left',\n",
       "       'housing_no_left', 'housing_yes_left', 'housing_yes_left',\n",
       "       'housing_yes_left', 'housing_yes_left', 'loan_no_left',\n",
       "       'loan_no_left', 'loan_no_left', 'loan_no_left', 'loan_yes_left',\n",
       "       'loan_yes_left', 'loan_yes_left', 'loan_yes_left',\n",
       "       'contact_cellular_left', 'contact_cellular_left',\n",
       "       'contact_cellular_left', 'contact_cellular_left',\n",
       "       'contact_telephone_left', 'contact_telephone_left',\n",
       "       'contact_telephone_left', 'contact_telephone_left',\n",
       "       'contact_unknown_left', 'contact_unknown_left',\n",
       "       'contact_unknown_left', 'contact_unknown_left', 'month_apr_left',\n",
       "       'month_apr_left', 'month_apr_left', 'month_apr_left',\n",
       "       'month_aug_left', 'month_aug_left', 'month_aug_left',\n",
       "       'month_aug_left', 'month_dec_left', 'month_dec_left',\n",
       "       'month_dec_left', 'month_dec_left', 'month_feb_left',\n",
       "       'month_feb_left', 'month_feb_left', 'month_feb_left',\n",
       "       'month_jan_left', 'month_jan_left', 'month_jan_left',\n",
       "       'month_jan_left', 'month_jul_left', 'month_jul_left',\n",
       "       'month_jul_left', 'month_jul_left', 'month_jun_left',\n",
       "       'month_jun_left', 'month_jun_left', 'month_jun_left',\n",
       "       'month_mar_left', 'month_mar_left', 'month_mar_left',\n",
       "       'month_mar_left', 'month_may_left', 'month_may_left',\n",
       "       'month_may_left', 'month_may_left', 'month_nov_left',\n",
       "       'month_nov_left', 'month_nov_left', 'month_nov_left',\n",
       "       'month_oct_left', 'month_oct_left', 'month_oct_left',\n",
       "       'month_oct_left', 'month_sep_left', 'month_sep_left',\n",
       "       'month_sep_left', 'month_sep_left', 'poutcome_failure_left',\n",
       "       'poutcome_failure_left', 'poutcome_failure_left',\n",
       "       'poutcome_other_left', 'poutcome_other_left',\n",
       "       'poutcome_other_left', 'poutcome_success_left',\n",
       "       'poutcome_success_left', 'poutcome_success_left',\n",
       "       'poutcome_unknown_left', 'poutcome_unknown_left',\n",
       "       'poutcome_unknown_left', 'job_admin._left', 'job_admin._left',\n",
       "       'job_admin._left', 'job_admin._left', 'job_blue-collar_left',\n",
       "       'job_blue-collar_left', 'job_blue-collar_left',\n",
       "       'job_blue-collar_left', 'job_entrepreneur_left',\n",
       "       'job_entrepreneur_left', 'job_entrepreneur_left',\n",
       "       'job_entrepreneur_left', 'job_housemaid_left',\n",
       "       'job_housemaid_left', 'job_housemaid_left', 'job_housemaid_left',\n",
       "       'job_management_left', 'job_management_left',\n",
       "       'job_management_left', 'job_management_left', 'job_retired_left',\n",
       "       'job_retired_left', 'job_retired_left', 'job_retired_left',\n",
       "       'job_self-employed_left', 'job_self-employed_left',\n",
       "       'job_self-employed_left', 'job_self-employed_left',\n",
       "       'job_services_left', 'job_services_left', 'job_services_left',\n",
       "       'job_services_left', 'job_student_left', 'job_student_left',\n",
       "       'job_student_left', 'job_student_left', 'job_technician_left',\n",
       "       'job_technician_left', 'job_technician_left',\n",
       "       'job_technician_left', 'job_unemployed_left',\n",
       "       'job_unemployed_left', 'job_unemployed_left',\n",
       "       'job_unemployed_left', 'job_unknown_left', 'job_unknown_left',\n",
       "       'job_unknown_left', 'job_unknown_left', 'marital_divorced_left',\n",
       "       'marital_divorced_left', 'marital_divorced_left',\n",
       "       'marital_divorced_left', 'marital_married_left',\n",
       "       'marital_married_left', 'marital_married_left',\n",
       "       'marital_married_left', 'marital_single_left',\n",
       "       'marital_single_left', 'marital_single_left',\n",
       "       'marital_single_left', 'education_primary_left',\n",
       "       'education_primary_left', 'education_primary_left',\n",
       "       'education_primary_left', 'education_secondary_left',\n",
       "       'education_secondary_left', 'education_secondary_left',\n",
       "       'education_secondary_left', 'education_tertiary_left',\n",
       "       'education_tertiary_left', 'education_tertiary_left',\n",
       "       'education_tertiary_left', 'education_unknown_left',\n",
       "       'education_unknown_left', 'education_unknown_left',\n",
       "       'education_unknown_left', 'default_no_left', 'default_no_left',\n",
       "       'default_no_left', 'default_no_left', 'default_yes_left',\n",
       "       'default_yes_left', 'default_yes_left', 'default_yes_left',\n",
       "       'housing_no_left', 'housing_no_left', 'housing_no_left',\n",
       "       'housing_no_left', 'housing_yes_left', 'housing_yes_left',\n",
       "       'housing_yes_left', 'housing_yes_left', 'loan_no_left',\n",
       "       'loan_no_left', 'loan_no_left', 'loan_no_left', 'loan_yes_left',\n",
       "       'loan_yes_left', 'loan_yes_left', 'loan_yes_left',\n",
       "       'contact_cellular_left', 'contact_cellular_left',\n",
       "       'contact_cellular_left', 'contact_cellular_left',\n",
       "       'contact_telephone_left', 'contact_telephone_left',\n",
       "       'contact_telephone_left', 'contact_telephone_left',\n",
       "       'contact_unknown_left', 'contact_unknown_left',\n",
       "       'contact_unknown_left', 'contact_unknown_left', 'month_apr_left',\n",
       "       'month_apr_left', 'month_apr_left', 'month_apr_left',\n",
       "       'month_aug_left', 'month_aug_left', 'month_aug_left',\n",
       "       'month_aug_left', 'month_dec_left', 'month_dec_left',\n",
       "       'month_dec_left', 'month_dec_left', 'month_feb_left',\n",
       "       'month_feb_left', 'month_feb_left', 'month_feb_left',\n",
       "       'month_jan_left', 'month_jan_left', 'month_jan_left',\n",
       "       'month_jan_left', 'month_jul_left', 'month_jul_left',\n",
       "       'month_jul_left', 'month_jul_left', 'month_jun_left',\n",
       "       'month_jun_left', 'month_jun_left', 'month_jun_left',\n",
       "       'month_mar_left', 'month_mar_left', 'month_mar_left',\n",
       "       'month_mar_left', 'month_may_left', 'month_may_left',\n",
       "       'month_may_left', 'month_may_left', 'month_nov_left',\n",
       "       'month_nov_left', 'month_nov_left', 'month_nov_left',\n",
       "       'month_oct_left', 'month_oct_left', 'month_oct_left',\n",
       "       'month_oct_left', 'month_sep_left', 'month_sep_left',\n",
       "       'month_sep_left', 'month_sep_left', 'poutcome_failure_left',\n",
       "       'poutcome_failure_left', 'poutcome_failure_left',\n",
       "       'poutcome_other_left', 'poutcome_other_left',\n",
       "       'poutcome_other_left', 'poutcome_success_left',\n",
       "       'poutcome_success_left', 'poutcome_success_left',\n",
       "       'poutcome_unknown_left', 'poutcome_unknown_left',\n",
       "       'poutcome_unknown_left', 'job_admin._left', 'job_admin._left',\n",
       "       'job_admin._left', 'job_admin._left', 'job_blue-collar_left',\n",
       "       'job_blue-collar_left', 'job_blue-collar_left',\n",
       "       'job_blue-collar_left', 'job_entrepreneur_left',\n",
       "       'job_entrepreneur_left', 'job_entrepreneur_left',\n",
       "       'job_entrepreneur_left', 'job_housemaid_left',\n",
       "       'job_housemaid_left', 'job_housemaid_left', 'job_housemaid_left',\n",
       "       'job_management_left', 'job_management_left',\n",
       "       'job_management_left', 'job_management_left', 'job_retired_left',\n",
       "       'job_retired_left', 'job_retired_left', 'job_retired_left',\n",
       "       'job_self-employed_left', 'job_self-employed_left',\n",
       "       'job_self-employed_left', 'job_self-employed_left',\n",
       "       'job_services_left', 'job_services_left', 'job_services_left',\n",
       "       'job_services_left', 'job_student_left', 'job_student_left',\n",
       "       'job_student_left', 'job_student_left', 'job_technician_left',\n",
       "       'job_technician_left', 'job_technician_left',\n",
       "       'job_technician_left', 'job_unemployed_left',\n",
       "       'job_unemployed_left', 'job_unemployed_left',\n",
       "       'job_unemployed_left', 'job_unknown_left', 'job_unknown_left',\n",
       "       'job_unknown_left', 'job_unknown_left', 'marital_divorced_left',\n",
       "       'marital_divorced_left', 'marital_divorced_left',\n",
       "       'marital_divorced_left', 'marital_married_left',\n",
       "       'marital_married_left', 'marital_married_left',\n",
       "       'marital_married_left', 'marital_single_left',\n",
       "       'marital_single_left', 'marital_single_left',\n",
       "       'marital_single_left', 'education_primary_left',\n",
       "       'education_primary_left', 'education_primary_left',\n",
       "       'education_primary_left', 'education_secondary_left',\n",
       "       'education_secondary_left', 'education_secondary_left',\n",
       "       'education_secondary_left', 'education_tertiary_left',\n",
       "       'education_tertiary_left', 'education_tertiary_left',\n",
       "       'education_tertiary_left', 'education_unknown_left',\n",
       "       'education_unknown_left', 'education_unknown_left',\n",
       "       'education_unknown_left', 'default_no_left', 'default_no_left',\n",
       "       'default_no_left', 'default_no_left', 'default_yes_left',\n",
       "       'default_yes_left', 'default_yes_left', 'default_yes_left',\n",
       "       'housing_no_left', 'housing_no_left', 'housing_no_left',\n",
       "       'housing_no_left', 'housing_yes_left', 'housing_yes_left',\n",
       "       'housing_yes_left', 'housing_yes_left', 'loan_no_left',\n",
       "       'loan_no_left', 'loan_no_left', 'loan_no_left', 'loan_yes_left',\n",
       "       'loan_yes_left', 'loan_yes_left', 'loan_yes_left',\n",
       "       'contact_cellular_left', 'contact_cellular_left',\n",
       "       'contact_cellular_left', 'contact_cellular_left',\n",
       "       'contact_telephone_left', 'contact_telephone_left',\n",
       "       'contact_telephone_left', 'contact_telephone_left',\n",
       "       'contact_unknown_left', 'contact_unknown_left',\n",
       "       'contact_unknown_left', 'contact_unknown_left', 'month_apr_left',\n",
       "       'month_apr_left', 'month_apr_left', 'month_apr_left',\n",
       "       'month_aug_left', 'month_aug_left', 'month_aug_left',\n",
       "       'month_aug_left', 'month_dec_left', 'month_dec_left',\n",
       "       'month_dec_left', 'month_dec_left', 'month_feb_left',\n",
       "       'month_feb_left', 'month_feb_left', 'month_feb_left',\n",
       "       'month_jan_left', 'month_jan_left', 'month_jan_left',\n",
       "       'month_jan_left', 'month_jul_left', 'month_jul_left',\n",
       "       'month_jul_left', 'month_jul_left', 'month_jun_left',\n",
       "       'month_jun_left', 'month_jun_left', 'month_jun_left',\n",
       "       'month_mar_left', 'month_mar_left', 'month_mar_left',\n",
       "       'month_mar_left', 'month_may_left', 'month_may_left',\n",
       "       'month_may_left', 'month_may_left', 'month_nov_left',\n",
       "       'month_nov_left', 'month_nov_left', 'month_nov_left',\n",
       "       'month_oct_left', 'month_oct_left', 'month_oct_left',\n",
       "       'month_oct_left', 'month_sep_left', 'month_sep_left',\n",
       "       'month_sep_left', 'month_sep_left', 'day_1_left', 'day_2_left',\n",
       "       'day_3_left', 'day_4_left', 'day_5_left', 'day_6_left',\n",
       "       'day_7_left', 'day_8_left', 'day_9_left', 'day_10_left',\n",
       "       'day_11_left', 'day_12_left', 'day_13_left', 'day_14_left',\n",
       "       'day_15_left', 'day_16_left', 'day_17_left', 'day_18_left',\n",
       "       'day_19_left', 'day_20_left', 'day_21_left', 'day_22_left',\n",
       "       'day_23_left', 'day_24_left', 'day_25_left', 'day_26_left',\n",
       "       'day_27_left', 'day_28_left', 'day_29_left', 'day_30_left',\n",
       "       'day_31_left', 'poutcome_failure_left', 'poutcome_failure_left',\n",
       "       'poutcome_failure_left', 'poutcome_other_left',\n",
       "       'poutcome_other_left', 'poutcome_other_left',\n",
       "       'poutcome_success_left', 'poutcome_success_left',\n",
       "       'poutcome_success_left', 'poutcome_unknown_left',\n",
       "       'poutcome_unknown_left', 'poutcome_unknown_left', 'job_admin.',\n",
       "       'job_blue-collar', 'job_entrepreneur', 'job_housemaid',\n",
       "       'job_management', 'job_retired', 'job_self-employed',\n",
       "       'job_services', 'job_student', 'job_technician', 'job_unemployed',\n",
       "       'job_unknown', 'marital_divorced', 'marital_married',\n",
       "       'marital_single', 'education_primary', 'education_secondary',\n",
       "       'education_tertiary', 'education_unknown', 'default_no',\n",
       "       'default_yes', 'housing_no', 'housing_yes', 'loan_no', 'loan_yes',\n",
       "       'contact_cellular', 'contact_telephone', 'contact_unknown',\n",
       "       'month_apr', 'month_aug', 'month_dec', 'month_feb', 'month_jan',\n",
       "       'month_jul', 'month_jun', 'month_mar', 'month_may', 'month_nov',\n",
       "       'month_oct', 'month_sep', 'day_1', 'day_2', 'day_3', 'day_4',\n",
       "       'day_5', 'day_6', 'day_7', 'day_8', 'day_9', 'day_10', 'day_11',\n",
       "       'day_12', 'day_13', 'day_14', 'day_15', 'day_16', 'day_17',\n",
       "       'day_18', 'day_19', 'day_20', 'day_21', 'day_22', 'day_23',\n",
       "       'day_24', 'day_25', 'day_26', 'day_27', 'day_28', 'day_29',\n",
       "       'day_30', 'day_31', 'poutcome_failure', 'poutcome_other',\n",
       "       'poutcome_success', 'poutcome_unknown'], dtype=object)"
      ]
     },
     "execution_count": 48,
     "metadata": {},
     "output_type": "execute_result"
    }
   ],
   "source": [
    "data_final=data[to_keep]\n",
    "data_final.columns.values"
   ]
  },
  {
   "cell_type": "code",
   "execution_count": 51,
   "metadata": {},
   "outputs": [],
   "source": [
    "data_final_vars=data_final.columns.values.tolist()\n",
    "y=['y']\n",
    "X=[i for i in data_final_vars if i not in y]"
   ]
  },
  {
   "cell_type": "markdown",
   "metadata": {},
   "source": [
    "### Feature Selection"
   ]
  },
  {
   "cell_type": "code",
   "execution_count": null,
   "metadata": {},
   "outputs": [],
   "source": [
    "#### Using feature selection "
   ]
  },
  {
   "cell_type": "code",
   "execution_count": 53,
   "metadata": {},
   "outputs": [
    {
     "name": "stderr",
     "output_type": "stream",
     "text": [
      "/Users/andang/miniconda3/envs/MLcoban/lib/python3.7/site-packages/sklearn/utils/validation.py:72: DataConversionWarning: A column-vector y was passed when a 1d array was expected. Please change the shape of y to (n_samples, ), for example using ravel().\n",
      "  return f(**kwargs)\n",
      "/Users/andang/miniconda3/envs/MLcoban/lib/python3.7/site-packages/sklearn/linear_model/_logistic.py:764: ConvergenceWarning: lbfgs failed to converge (status=1):\n",
      "STOP: TOTAL NO. of ITERATIONS REACHED LIMIT.\n",
      "\n",
      "Increase the number of iterations (max_iter) or scale the data as shown in:\n",
      "    https://scikit-learn.org/stable/modules/preprocessing.html\n",
      "Please also refer to the documentation for alternative solver options:\n",
      "    https://scikit-learn.org/stable/modules/linear_model.html#logistic-regression\n",
      "  extra_warning_msg=_LOGISTIC_SOLVER_CONVERGENCE_MSG)\n"
     ]
    }
   ],
   "source": [
    "from sklearn import datasets\n",
    "from sklearn.feature_selection import RFE\n",
    "from sklearn.linear_model import LogisticRegression\n",
    "\n",
    "logreg = LogisticRegression()\n",
    "\n",
    "# rfe = RFE(logreg, 18)\n",
    "rfe = logreg.fit(data_final[X], data_final[y] )\n",
    "# print(rfe.support_)\n",
    "# print(rfe.ranking_)\n",
    "\n"
   ]
  },
  {
   "cell_type": "code",
   "execution_count": 55,
   "metadata": {},
   "outputs": [],
   "source": [
    "cols=[\"previous\", \"job_blue-collar\", \"job_retired\", \"job_services\", \"job_student\", \"default_no\", \n",
    "      \"month_aug\", \"month_dec\", \"month_jul\", \"month_nov\", \"month_oct\", \"month_sep\", \n",
    "      \"poutcome_failure\", \"poutcome_success\"] \n",
    "X=data_final[cols]\n",
    "y=data_final['y']"
   ]
  },
  {
   "cell_type": "markdown",
   "metadata": {},
   "source": [
    "### Logistic Regression Model Fitting"
   ]
  },
  {
   "cell_type": "code",
   "execution_count": 57,
   "metadata": {},
   "outputs": [
    {
     "data": {
      "text/plain": [
       "LogisticRegression()"
      ]
     },
     "execution_count": 57,
     "metadata": {},
     "output_type": "execute_result"
    }
   ],
   "source": [
    "X_train, X_test, y_train, y_test = train_test_split(X, y, test_size=0.3, random_state=0)\n",
    "from sklearn.linear_model import LogisticRegression\n",
    "from sklearn import metrics\n",
    "logreg = LogisticRegression()\n",
    "logreg.fit(X_train, y_train)"
   ]
  },
  {
   "cell_type": "markdown",
   "metadata": {},
   "source": [
    "#### Predicting the test set results and caculating the accuracy"
   ]
  },
  {
   "cell_type": "code",
   "execution_count": 58,
   "metadata": {},
   "outputs": [],
   "source": [
    "y_pred = logreg.predict(X_test)"
   ]
  },
  {
   "cell_type": "code",
   "execution_count": 59,
   "metadata": {},
   "outputs": [
    {
     "name": "stdout",
     "output_type": "stream",
     "text": [
      "Accuracy of logistic regression classifier on test set: 0.89\n"
     ]
    }
   ],
   "source": [
    "print('Accuracy of logistic regression classifier on test set: {:.2f}'.format(logreg.score(X_test, y_test)))"
   ]
  },
  {
   "cell_type": "markdown",
   "metadata": {},
   "source": [
    "### Cross Validation"
   ]
  },
  {
   "cell_type": "code",
   "execution_count": 60,
   "metadata": {},
   "outputs": [
    {
     "name": "stderr",
     "output_type": "stream",
     "text": [
      "/Users/andang/miniconda3/envs/MLcoban/lib/python3.7/site-packages/sklearn/model_selection/_split.py:297: FutureWarning: Setting a random_state has no effect since shuffle is False. This will raise an error in 0.24. You should leave random_state to its default (None), or set shuffle=True.\n",
      "  FutureWarning\n"
     ]
    },
    {
     "name": "stdout",
     "output_type": "stream",
     "text": [
      "10-fold cross validation average accuracy: 0.894\n"
     ]
    }
   ],
   "source": [
    "from sklearn import model_selection\n",
    "from sklearn.model_selection import cross_val_score\n",
    "kfold = model_selection.KFold(n_splits=10, random_state=7)\n",
    "modelCV = LogisticRegression()\n",
    "scoring = 'accuracy'\n",
    "results = model_selection.cross_val_score(modelCV, X_train, y_train, cv=kfold, scoring=scoring)\n",
    "print(\"10-fold cross validation average accuracy: %.3f\" % (results.mean()))"
   ]
  },
  {
   "cell_type": "markdown",
   "metadata": {},
   "source": [
    "### Confusion Matrix"
   ]
  },
  {
   "cell_type": "code",
   "execution_count": 61,
   "metadata": {},
   "outputs": [
    {
     "name": "stdout",
     "output_type": "stream",
     "text": [
      "[[1181    9]\n",
      " [ 143   24]]\n"
     ]
    }
   ],
   "source": [
    "from sklearn.metrics import confusion_matrix\n",
    "confusion_matrix = confusion_matrix(y_test, y_pred)\n",
    "print(confusion_matrix)"
   ]
  },
  {
   "cell_type": "markdown",
   "metadata": {},
   "source": [
    "#### Accuracy"
   ]
  },
  {
   "cell_type": "code",
   "execution_count": 63,
   "metadata": {},
   "outputs": [
    {
     "name": "stdout",
     "output_type": "stream",
     "text": [
      "Accuracy of logistic regression classifier on test set: 0.89\n"
     ]
    }
   ],
   "source": [
    "print('Accuracy of logistic regression classifier on test set: {:.2f}'.format(logreg.score(X_test, y_test)))"
   ]
  },
  {
   "cell_type": "markdown",
   "metadata": {},
   "source": [
    "#### Compute precision, recall, F-measure and support\n",
    "\n",
    "The precision is the ratio tp / (tp + fp) where tp is the number of true positives and fp the number of false positives. The precision is intuitively the ability of the classifier not to label as positive a sample that is negative.\n",
    "\n",
    "The recall is the ratio tp / (tp + fn) where tp is the number of true positives and fn the number of false negatives. The recall is intuitively the ability of the classifier to find all the positive samples.\n",
    "\n",
    "The F-beta score can be interpreted as a weighted harmonic mean of the precision and recall, where an F-beta score reaches its best value at 1 and worst score at 0.\n",
    "\n",
    "The F-beta score weights recall more than precision by a factor of beta. beta == 1.0 means recall and precision are equally important.\n",
    "\n",
    "The support is the number of occurrences of each class in y_test."
   ]
  },
  {
   "cell_type": "code",
   "execution_count": 64,
   "metadata": {},
   "outputs": [
    {
     "name": "stdout",
     "output_type": "stream",
     "text": [
      "              precision    recall  f1-score   support\n",
      "\n",
      "          no       0.89      0.99      0.94      1190\n",
      "         yes       0.73      0.14      0.24       167\n",
      "\n",
      "    accuracy                           0.89      1357\n",
      "   macro avg       0.81      0.57      0.59      1357\n",
      "weighted avg       0.87      0.89      0.85      1357\n",
      "\n"
     ]
    }
   ],
   "source": [
    "from sklearn.metrics import classification_report\n",
    "print(classification_report(y_test, y_pred))"
   ]
  },
  {
   "cell_type": "markdown",
   "metadata": {},
   "source": [
    "#### Interpretation: \n",
    "\n",
    "Of the entire test set, 88% of the promoted term deposit were the term deposit that the customers liked. Of the entire test set, 90% of the customer's preferred term deposit were promoted."
   ]
  },
  {
   "cell_type": "markdown",
   "metadata": {},
   "source": [
    "### ROC Curve from sklearn import metrics"
   ]
  },
  {
   "cell_type": "code",
   "execution_count": 70,
   "metadata": {},
   "outputs": [
    {
     "data": {
      "text/plain": [
       "4274    no\n",
       "72      no\n",
       "1065    no\n",
       "3185    no\n",
       "130     no\n",
       "        ..\n",
       "200     no\n",
       "2663    no\n",
       "4455    no\n",
       "3059    no\n",
       "2427    no\n",
       "Name: y, Length: 1357, dtype: object"
      ]
     },
     "execution_count": 70,
     "metadata": {},
     "output_type": "execute_result"
    }
   ],
   "source": [
    "y_test"
   ]
  },
  {
   "cell_type": "markdown",
   "metadata": {},
   "source": [
    "##### HOMEWORK: Fix BUG of drawing roc_curve"
   ]
  },
  {
   "cell_type": "code",
   "execution_count": 69,
   "metadata": {},
   "outputs": [
    {
     "ename": "ValueError",
     "evalue": "could not convert string to float: 'no'",
     "output_type": "error",
     "traceback": [
      "\u001b[0;31m---------------------------------------------------------------------------\u001b[0m",
      "\u001b[0;31mValueError\u001b[0m                                Traceback (most recent call last)",
      "\u001b[0;32m<ipython-input-69-209a10d6738c>\u001b[0m in \u001b[0;36m<module>\u001b[0;34m\u001b[0m\n\u001b[1;32m      1\u001b[0m \u001b[0;32mfrom\u001b[0m \u001b[0msklearn\u001b[0m\u001b[0;34m.\u001b[0m\u001b[0mmetrics\u001b[0m \u001b[0;32mimport\u001b[0m \u001b[0mroc_auc_score\u001b[0m\u001b[0;34m\u001b[0m\u001b[0;34m\u001b[0m\u001b[0m\n\u001b[1;32m      2\u001b[0m \u001b[0;32mfrom\u001b[0m \u001b[0msklearn\u001b[0m\u001b[0;34m.\u001b[0m\u001b[0mmetrics\u001b[0m \u001b[0;32mimport\u001b[0m \u001b[0mroc_curve\u001b[0m\u001b[0;34m\u001b[0m\u001b[0;34m\u001b[0m\u001b[0m\n\u001b[0;32m----> 3\u001b[0;31m \u001b[0mlogit_roc_auc\u001b[0m \u001b[0;34m=\u001b[0m \u001b[0mroc_auc_score\u001b[0m\u001b[0;34m(\u001b[0m\u001b[0my_test\u001b[0m\u001b[0;34m,\u001b[0m \u001b[0my_pred\u001b[0m\u001b[0;34m)\u001b[0m\u001b[0;34m\u001b[0m\u001b[0;34m\u001b[0m\u001b[0m\n\u001b[0m\u001b[1;32m      4\u001b[0m \u001b[0mfpr\u001b[0m\u001b[0;34m,\u001b[0m \u001b[0mtpr\u001b[0m\u001b[0;34m,\u001b[0m \u001b[0mthresholds\u001b[0m \u001b[0;34m=\u001b[0m \u001b[0mroc_curve\u001b[0m\u001b[0;34m(\u001b[0m\u001b[0my_test\u001b[0m\u001b[0;34m,\u001b[0m \u001b[0mlogreg\u001b[0m\u001b[0;34m.\u001b[0m\u001b[0mpredict_proba\u001b[0m\u001b[0;34m(\u001b[0m\u001b[0mX_test\u001b[0m\u001b[0;34m)\u001b[0m\u001b[0;34m[\u001b[0m\u001b[0;34m:\u001b[0m\u001b[0;34m,\u001b[0m\u001b[0;36m1\u001b[0m\u001b[0;34m]\u001b[0m\u001b[0;34m)\u001b[0m\u001b[0;34m\u001b[0m\u001b[0;34m\u001b[0m\u001b[0m\n\u001b[1;32m      5\u001b[0m \u001b[0mplt\u001b[0m\u001b[0;34m.\u001b[0m\u001b[0mfigure\u001b[0m\u001b[0;34m(\u001b[0m\u001b[0;34m)\u001b[0m\u001b[0;34m\u001b[0m\u001b[0;34m\u001b[0m\u001b[0m\n",
      "\u001b[0;32m~/miniconda3/envs/MLcoban/lib/python3.7/site-packages/sklearn/utils/validation.py\u001b[0m in \u001b[0;36minner_f\u001b[0;34m(*args, **kwargs)\u001b[0m\n\u001b[1;32m     70\u001b[0m                           FutureWarning)\n\u001b[1;32m     71\u001b[0m         \u001b[0mkwargs\u001b[0m\u001b[0;34m.\u001b[0m\u001b[0mupdate\u001b[0m\u001b[0;34m(\u001b[0m\u001b[0;34m{\u001b[0m\u001b[0mk\u001b[0m\u001b[0;34m:\u001b[0m \u001b[0marg\u001b[0m \u001b[0;32mfor\u001b[0m \u001b[0mk\u001b[0m\u001b[0;34m,\u001b[0m \u001b[0marg\u001b[0m \u001b[0;32min\u001b[0m \u001b[0mzip\u001b[0m\u001b[0;34m(\u001b[0m\u001b[0msig\u001b[0m\u001b[0;34m.\u001b[0m\u001b[0mparameters\u001b[0m\u001b[0;34m,\u001b[0m \u001b[0margs\u001b[0m\u001b[0;34m)\u001b[0m\u001b[0;34m}\u001b[0m\u001b[0;34m)\u001b[0m\u001b[0;34m\u001b[0m\u001b[0;34m\u001b[0m\u001b[0m\n\u001b[0;32m---> 72\u001b[0;31m         \u001b[0;32mreturn\u001b[0m \u001b[0mf\u001b[0m\u001b[0;34m(\u001b[0m\u001b[0;34m**\u001b[0m\u001b[0mkwargs\u001b[0m\u001b[0;34m)\u001b[0m\u001b[0;34m\u001b[0m\u001b[0;34m\u001b[0m\u001b[0m\n\u001b[0m\u001b[1;32m     73\u001b[0m     \u001b[0;32mreturn\u001b[0m \u001b[0minner_f\u001b[0m\u001b[0;34m\u001b[0m\u001b[0;34m\u001b[0m\u001b[0m\n\u001b[1;32m     74\u001b[0m \u001b[0;34m\u001b[0m\u001b[0m\n",
      "\u001b[0;32m~/miniconda3/envs/MLcoban/lib/python3.7/site-packages/sklearn/metrics/_ranking.py\u001b[0m in \u001b[0;36mroc_auc_score\u001b[0;34m(y_true, y_score, average, sample_weight, max_fpr, multi_class, labels)\u001b[0m\n\u001b[1;32m    370\u001b[0m     \u001b[0my_type\u001b[0m \u001b[0;34m=\u001b[0m \u001b[0mtype_of_target\u001b[0m\u001b[0;34m(\u001b[0m\u001b[0my_true\u001b[0m\u001b[0;34m)\u001b[0m\u001b[0;34m\u001b[0m\u001b[0;34m\u001b[0m\u001b[0m\n\u001b[1;32m    371\u001b[0m     \u001b[0my_true\u001b[0m \u001b[0;34m=\u001b[0m \u001b[0mcheck_array\u001b[0m\u001b[0;34m(\u001b[0m\u001b[0my_true\u001b[0m\u001b[0;34m,\u001b[0m \u001b[0mensure_2d\u001b[0m\u001b[0;34m=\u001b[0m\u001b[0;32mFalse\u001b[0m\u001b[0;34m,\u001b[0m \u001b[0mdtype\u001b[0m\u001b[0;34m=\u001b[0m\u001b[0;32mNone\u001b[0m\u001b[0;34m)\u001b[0m\u001b[0;34m\u001b[0m\u001b[0;34m\u001b[0m\u001b[0m\n\u001b[0;32m--> 372\u001b[0;31m     \u001b[0my_score\u001b[0m \u001b[0;34m=\u001b[0m \u001b[0mcheck_array\u001b[0m\u001b[0;34m(\u001b[0m\u001b[0my_score\u001b[0m\u001b[0;34m,\u001b[0m \u001b[0mensure_2d\u001b[0m\u001b[0;34m=\u001b[0m\u001b[0;32mFalse\u001b[0m\u001b[0;34m)\u001b[0m\u001b[0;34m\u001b[0m\u001b[0;34m\u001b[0m\u001b[0m\n\u001b[0m\u001b[1;32m    373\u001b[0m \u001b[0;34m\u001b[0m\u001b[0m\n\u001b[1;32m    374\u001b[0m     if y_type == \"multiclass\" or (y_type == \"binary\" and\n",
      "\u001b[0;32m~/miniconda3/envs/MLcoban/lib/python3.7/site-packages/sklearn/utils/validation.py\u001b[0m in \u001b[0;36minner_f\u001b[0;34m(*args, **kwargs)\u001b[0m\n\u001b[1;32m     70\u001b[0m                           FutureWarning)\n\u001b[1;32m     71\u001b[0m         \u001b[0mkwargs\u001b[0m\u001b[0;34m.\u001b[0m\u001b[0mupdate\u001b[0m\u001b[0;34m(\u001b[0m\u001b[0;34m{\u001b[0m\u001b[0mk\u001b[0m\u001b[0;34m:\u001b[0m \u001b[0marg\u001b[0m \u001b[0;32mfor\u001b[0m \u001b[0mk\u001b[0m\u001b[0;34m,\u001b[0m \u001b[0marg\u001b[0m \u001b[0;32min\u001b[0m \u001b[0mzip\u001b[0m\u001b[0;34m(\u001b[0m\u001b[0msig\u001b[0m\u001b[0;34m.\u001b[0m\u001b[0mparameters\u001b[0m\u001b[0;34m,\u001b[0m \u001b[0margs\u001b[0m\u001b[0;34m)\u001b[0m\u001b[0;34m}\u001b[0m\u001b[0;34m)\u001b[0m\u001b[0;34m\u001b[0m\u001b[0;34m\u001b[0m\u001b[0m\n\u001b[0;32m---> 72\u001b[0;31m         \u001b[0;32mreturn\u001b[0m \u001b[0mf\u001b[0m\u001b[0;34m(\u001b[0m\u001b[0;34m**\u001b[0m\u001b[0mkwargs\u001b[0m\u001b[0;34m)\u001b[0m\u001b[0;34m\u001b[0m\u001b[0;34m\u001b[0m\u001b[0m\n\u001b[0m\u001b[1;32m     73\u001b[0m     \u001b[0;32mreturn\u001b[0m \u001b[0minner_f\u001b[0m\u001b[0;34m\u001b[0m\u001b[0;34m\u001b[0m\u001b[0m\n\u001b[1;32m     74\u001b[0m \u001b[0;34m\u001b[0m\u001b[0m\n",
      "\u001b[0;32m~/miniconda3/envs/MLcoban/lib/python3.7/site-packages/sklearn/utils/validation.py\u001b[0m in \u001b[0;36mcheck_array\u001b[0;34m(array, accept_sparse, accept_large_sparse, dtype, order, copy, force_all_finite, ensure_2d, allow_nd, ensure_min_samples, ensure_min_features, estimator)\u001b[0m\n\u001b[1;32m    596\u001b[0m                     \u001b[0marray\u001b[0m \u001b[0;34m=\u001b[0m \u001b[0marray\u001b[0m\u001b[0;34m.\u001b[0m\u001b[0mastype\u001b[0m\u001b[0;34m(\u001b[0m\u001b[0mdtype\u001b[0m\u001b[0;34m,\u001b[0m \u001b[0mcasting\u001b[0m\u001b[0;34m=\u001b[0m\u001b[0;34m\"unsafe\"\u001b[0m\u001b[0;34m,\u001b[0m \u001b[0mcopy\u001b[0m\u001b[0;34m=\u001b[0m\u001b[0;32mFalse\u001b[0m\u001b[0;34m)\u001b[0m\u001b[0;34m\u001b[0m\u001b[0;34m\u001b[0m\u001b[0m\n\u001b[1;32m    597\u001b[0m                 \u001b[0;32melse\u001b[0m\u001b[0;34m:\u001b[0m\u001b[0;34m\u001b[0m\u001b[0;34m\u001b[0m\u001b[0m\n\u001b[0;32m--> 598\u001b[0;31m                     \u001b[0marray\u001b[0m \u001b[0;34m=\u001b[0m \u001b[0mnp\u001b[0m\u001b[0;34m.\u001b[0m\u001b[0masarray\u001b[0m\u001b[0;34m(\u001b[0m\u001b[0marray\u001b[0m\u001b[0;34m,\u001b[0m \u001b[0morder\u001b[0m\u001b[0;34m=\u001b[0m\u001b[0morder\u001b[0m\u001b[0;34m,\u001b[0m \u001b[0mdtype\u001b[0m\u001b[0;34m=\u001b[0m\u001b[0mdtype\u001b[0m\u001b[0;34m)\u001b[0m\u001b[0;34m\u001b[0m\u001b[0;34m\u001b[0m\u001b[0m\n\u001b[0m\u001b[1;32m    599\u001b[0m             \u001b[0;32mexcept\u001b[0m \u001b[0mComplexWarning\u001b[0m\u001b[0;34m:\u001b[0m\u001b[0;34m\u001b[0m\u001b[0;34m\u001b[0m\u001b[0m\n\u001b[1;32m    600\u001b[0m                 raise ValueError(\"Complex data not supported\\n\"\n",
      "\u001b[0;32m~/miniconda3/envs/MLcoban/lib/python3.7/site-packages/numpy/core/_asarray.py\u001b[0m in \u001b[0;36masarray\u001b[0;34m(a, dtype, order)\u001b[0m\n\u001b[1;32m     81\u001b[0m \u001b[0;34m\u001b[0m\u001b[0m\n\u001b[1;32m     82\u001b[0m     \"\"\"\n\u001b[0;32m---> 83\u001b[0;31m     \u001b[0;32mreturn\u001b[0m \u001b[0marray\u001b[0m\u001b[0;34m(\u001b[0m\u001b[0ma\u001b[0m\u001b[0;34m,\u001b[0m \u001b[0mdtype\u001b[0m\u001b[0;34m,\u001b[0m \u001b[0mcopy\u001b[0m\u001b[0;34m=\u001b[0m\u001b[0;32mFalse\u001b[0m\u001b[0;34m,\u001b[0m \u001b[0morder\u001b[0m\u001b[0;34m=\u001b[0m\u001b[0morder\u001b[0m\u001b[0;34m)\u001b[0m\u001b[0;34m\u001b[0m\u001b[0;34m\u001b[0m\u001b[0m\n\u001b[0m\u001b[1;32m     84\u001b[0m \u001b[0;34m\u001b[0m\u001b[0m\n\u001b[1;32m     85\u001b[0m \u001b[0;34m\u001b[0m\u001b[0m\n",
      "\u001b[0;31mValueError\u001b[0m: could not convert string to float: 'no'"
     ]
    }
   ],
   "source": [
    "# Fix bug\n",
    "from sklearn.metrics import roc_auc_score\n",
    "from sklearn.metrics import roc_curve\n",
    "logit_roc_auc = roc_auc_score(y_test, y_pred)\n",
    "fpr, tpr, thresholds = roc_curve(y_test, logreg.predict_proba(X_test)[:,1])\n",
    "plt.figure()\n",
    "plt.plot(fpr, tpr, label='Logistic Regression (area = %0.2f)' % logit_roc_auc)\n",
    "plt.plot([0, 1], [0, 1],'r--')\n",
    "plt.xlim([0.0, 1.0])\n",
    "plt.ylim([0.0, 1.05])\n",
    "plt.xlabel('False Positive Rate')\n",
    "plt.ylabel('True Positive Rate')\n",
    "plt.title('Receiver operating characteristic')\n",
    "plt.legend(loc=\"lower right\")\n",
    "plt.savefig('Log_ROC')\n",
    "plt.show()"
   ]
  },
  {
   "cell_type": "markdown",
   "metadata": {},
   "source": [
    "### Apply Oversampling Method\n",
    "##### from imblearn.over_sampling import SMOTE"
   ]
  },
  {
   "cell_type": "code",
   "execution_count": null,
   "metadata": {},
   "outputs": [],
   "source": []
  }
 ],
 "metadata": {
  "kernelspec": {
   "display_name": "Python 3",
   "language": "python",
   "name": "python3"
  },
  "language_info": {
   "codemirror_mode": {
    "name": "ipython",
    "version": 3
   },
   "file_extension": ".py",
   "mimetype": "text/x-python",
   "name": "python",
   "nbconvert_exporter": "python",
   "pygments_lexer": "ipython3",
   "version": "3.7.9"
  }
 },
 "nbformat": 4,
 "nbformat_minor": 2
}
