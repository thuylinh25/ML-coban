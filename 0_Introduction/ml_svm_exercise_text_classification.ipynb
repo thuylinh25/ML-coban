{
 "cells": [
  {
   "cell_type": "code",
   "execution_count": 2,
   "metadata": {},
   "outputs": [],
   "source": [
    "import re\n",
    "\n",
    "import pandas as pd\n",
    "from sklearn.feature_extraction.text import TfidfVectorizer\n",
    "from sklearn.model_selection import train_test_split\n",
    "from sklearn import svm\n",
    "from sklearn.metrics import accuracy_score"
   ]
  },
  {
   "cell_type": "code",
   "execution_count": 7,
   "metadata": {},
   "outputs": [],
   "source": [
    "def cleaning(document):\n",
    "    # remove non-ASCII characters\n",
    "    result = re.sub(r'[^\\x00-\\x7F]+',' ', document)\n",
    "    #I. Removing URL.\n",
    "    #II. Removing all irrelevant characters (Numbers and Punctuation).\n",
    "    #III. Convert all characters into lowercase.\n",
    "    #IV. Tokenization\n",
    "    #V. Removing Stopwords\n",
    "    #VI. Stemming and Lemmatization\n",
    "    #VII. Remove the words having length <= 2\n",
    "    # VIII. Convert the list of tokens into back to the string\n",
    "    return result\n"
   ]
  },
  {
   "cell_type": "code",
   "execution_count": 5,
   "metadata": {},
   "outputs": [
    {
     "data": {
      "text/html": [
       "<div>\n",
       "<style scoped>\n",
       "    .dataframe tbody tr th:only-of-type {\n",
       "        vertical-align: middle;\n",
       "    }\n",
       "\n",
       "    .dataframe tbody tr th {\n",
       "        vertical-align: top;\n",
       "    }\n",
       "\n",
       "    .dataframe thead th {\n",
       "        text-align: right;\n",
       "    }\n",
       "</style>\n",
       "<table border=\"1\" class=\"dataframe\">\n",
       "  <thead>\n",
       "    <tr style=\"text-align: right;\">\n",
       "      <th></th>\n",
       "      <th>Unnamed: 0</th>\n",
       "      <th>Snippet</th>\n",
       "      <th>Sentiment</th>\n",
       "    </tr>\n",
       "  </thead>\n",
       "  <tbody>\n",
       "    <tr>\n",
       "      <th>0</th>\n",
       "      <td>0</td>\n",
       "      <td>I like you Starbucks but instagram.com/p/_-bE9...</td>\n",
       "      <td>positive</td>\n",
       "    </tr>\n",
       "    <tr>\n",
       "      <th>1</th>\n",
       "      <td>1</td>\n",
       "      <td>RT @fuckitlist49: Triple whiskey straight. Sir...</td>\n",
       "      <td>neutral</td>\n",
       "    </tr>\n",
       "    <tr>\n",
       "      <th>2</th>\n",
       "      <td>2</td>\n",
       "      <td>RT @fuckitlist49: Triple whiskey straight. Sir...</td>\n",
       "      <td>neutral</td>\n",
       "    </tr>\n",
       "    <tr>\n",
       "      <th>3</th>\n",
       "      <td>3</td>\n",
       "      <td>RT @fuckitlist49: Triple whiskey straight. Sir...</td>\n",
       "      <td>neutral</td>\n",
       "    </tr>\n",
       "    <tr>\n",
       "      <th>4</th>\n",
       "      <td>4</td>\n",
       "      <td>@MiniLaddd I probably gonna get killed by load...</td>\n",
       "      <td>neutral</td>\n",
       "    </tr>\n",
       "  </tbody>\n",
       "</table>\n",
       "</div>"
      ],
      "text/plain": [
       "   Unnamed: 0                                            Snippet Sentiment\n",
       "0           0  I like you Starbucks but instagram.com/p/_-bE9...  positive\n",
       "1           1  RT @fuckitlist49: Triple whiskey straight. Sir...   neutral\n",
       "2           2  RT @fuckitlist49: Triple whiskey straight. Sir...   neutral\n",
       "3           3  RT @fuckitlist49: Triple whiskey straight. Sir...   neutral\n",
       "4           4  @MiniLaddd I probably gonna get killed by load...   neutral"
      ]
     },
     "execution_count": 5,
     "metadata": {},
     "output_type": "execute_result"
    }
   ],
   "source": [
    "df = pd.read_csv(\"tweet1000.csv\", delimiter=\",\")\n",
    "df.head()"
   ]
  },
  {
   "cell_type": "code",
   "execution_count": 8,
   "metadata": {},
   "outputs": [
    {
     "data": {
      "text/html": [
       "<div>\n",
       "<style scoped>\n",
       "    .dataframe tbody tr th:only-of-type {\n",
       "        vertical-align: middle;\n",
       "    }\n",
       "\n",
       "    .dataframe tbody tr th {\n",
       "        vertical-align: top;\n",
       "    }\n",
       "\n",
       "    .dataframe thead th {\n",
       "        text-align: right;\n",
       "    }\n",
       "</style>\n",
       "<table border=\"1\" class=\"dataframe\">\n",
       "  <thead>\n",
       "    <tr style=\"text-align: right;\">\n",
       "      <th></th>\n",
       "      <th>Unnamed: 0</th>\n",
       "      <th>Snippet</th>\n",
       "      <th>Sentiment</th>\n",
       "      <th>clean_text</th>\n",
       "    </tr>\n",
       "  </thead>\n",
       "  <tbody>\n",
       "    <tr>\n",
       "      <th>0</th>\n",
       "      <td>0</td>\n",
       "      <td>I like you Starbucks but instagram.com/p/_-bE9...</td>\n",
       "      <td>positive</td>\n",
       "      <td>I like you Starbucks but instagram.com/p/_-bE9...</td>\n",
       "    </tr>\n",
       "    <tr>\n",
       "      <th>1</th>\n",
       "      <td>1</td>\n",
       "      <td>RT @fuckitlist49: Triple whiskey straight. Sir...</td>\n",
       "      <td>neutral</td>\n",
       "      <td>RT @fuckitlist49: Triple whiskey straight. Sir...</td>\n",
       "    </tr>\n",
       "    <tr>\n",
       "      <th>2</th>\n",
       "      <td>2</td>\n",
       "      <td>RT @fuckitlist49: Triple whiskey straight. Sir...</td>\n",
       "      <td>neutral</td>\n",
       "      <td>RT @fuckitlist49: Triple whiskey straight. Sir...</td>\n",
       "    </tr>\n",
       "    <tr>\n",
       "      <th>3</th>\n",
       "      <td>3</td>\n",
       "      <td>RT @fuckitlist49: Triple whiskey straight. Sir...</td>\n",
       "      <td>neutral</td>\n",
       "      <td>RT @fuckitlist49: Triple whiskey straight. Sir...</td>\n",
       "    </tr>\n",
       "    <tr>\n",
       "      <th>4</th>\n",
       "      <td>4</td>\n",
       "      <td>@MiniLaddd I probably gonna get killed by load...</td>\n",
       "      <td>neutral</td>\n",
       "      <td>@MiniLaddd I probably gonna get killed by load...</td>\n",
       "    </tr>\n",
       "  </tbody>\n",
       "</table>\n",
       "</div>"
      ],
      "text/plain": [
       "   Unnamed: 0                                            Snippet Sentiment  \\\n",
       "0           0  I like you Starbucks but instagram.com/p/_-bE9...  positive   \n",
       "1           1  RT @fuckitlist49: Triple whiskey straight. Sir...   neutral   \n",
       "2           2  RT @fuckitlist49: Triple whiskey straight. Sir...   neutral   \n",
       "3           3  RT @fuckitlist49: Triple whiskey straight. Sir...   neutral   \n",
       "4           4  @MiniLaddd I probably gonna get killed by load...   neutral   \n",
       "\n",
       "                                          clean_text  \n",
       "0  I like you Starbucks but instagram.com/p/_-bE9...  \n",
       "1  RT @fuckitlist49: Triple whiskey straight. Sir...  \n",
       "2  RT @fuckitlist49: Triple whiskey straight. Sir...  \n",
       "3  RT @fuckitlist49: Triple whiskey straight. Sir...  \n",
       "4  @MiniLaddd I probably gonna get killed by load...  "
      ]
     },
     "execution_count": 8,
     "metadata": {},
     "output_type": "execute_result"
    }
   ],
   "source": [
    "# cleaning documents\n",
    "df['clean_text'] = df['Snippet'].apply(lambda row: cleaning(row))\n",
    "df.head()"
   ]
  },
  {
   "cell_type": "code",
   "execution_count": 9,
   "metadata": {},
   "outputs": [],
   "source": [
    "# create TF-IDF vectorizer\n",
    "tfidf_vect = TfidfVectorizer(ngram_range=(1, 3), min_df=1)\n",
    "# fit the vectorizer\n",
    "tfidf_vect = tfidf_vect.fit(df['clean_text'].values.astype('U'))\n",
    "# transform text to TF-IDF feature space\n",
    "x_data = tfidf_vect.transform(df['clean_text'].values.astype('U'))\n",
    "y_label = df['Sentiment']"
   ]
  },
  {
   "cell_type": "code",
   "execution_count": 10,
   "metadata": {},
   "outputs": [
    {
     "data": {
      "text/plain": [
       "array(['positive', 'neutral', 'negative'], dtype=object)"
      ]
     },
     "execution_count": 10,
     "metadata": {},
     "output_type": "execute_result"
    }
   ],
   "source": [
    "y_label.unique()"
   ]
  },
  {
   "cell_type": "code",
   "execution_count": 11,
   "metadata": {},
   "outputs": [],
   "source": [
    "# slipt data into train and test data\n",
    "x_train, x_test, y_train, y_test = train_test_split(\n",
    "x_data, y_label, test_size=0.33, random_state=12345)"
   ]
  },
  {
   "cell_type": "code",
   "execution_count": 8,
   "metadata": {},
   "outputs": [
    {
     "data": {
      "text/plain": [
       "SVC(kernel='linear')"
      ]
     },
     "execution_count": 8,
     "metadata": {},
     "output_type": "execute_result"
    }
   ],
   "source": [
    "# train data with SVM model\n",
    "# TODO(you): try other kernel and parameters\n",
    "clf = svm.SVC(kernel='linear')\n",
    "clf.fit(x_train, y_train)"
   ]
  },
  {
   "cell_type": "code",
   "execution_count": 9,
   "metadata": {},
   "outputs": [
    {
     "name": "stdout",
     "output_type": "stream",
     "text": [
      "accuracy  0.8212121212121212\n"
     ]
    }
   ],
   "source": [
    "# validate the accuracy\n",
    "y_predict = clf.predict(x_test)\n",
    "print(\"accuracy \",accuracy_score(y_test, y_predict))\n"
   ]
  },
  {
   "cell_type": "code",
   "execution_count": null,
   "metadata": {},
   "outputs": [],
   "source": [
    "# Evaluate by AUC"
   ]
  },
  {
   "cell_type": "code",
   "execution_count": 12,
   "metadata": {},
   "outputs": [],
   "source": [
    "# Hint: https://medium.com/analytics-vidhya/text-preprocessing-for-nlp-natural-language-processing-beginners-to-master-fd82dfecf95"
   ]
  },
  {
   "cell_type": "code",
   "execution_count": null,
   "metadata": {},
   "outputs": [],
   "source": []
  }
 ],
 "metadata": {
  "kernelspec": {
   "display_name": "Python 3",
   "language": "python",
   "name": "python3"
  },
  "language_info": {
   "codemirror_mode": {
    "name": "ipython",
    "version": 3
   },
   "file_extension": ".py",
   "mimetype": "text/x-python",
   "name": "python",
   "nbconvert_exporter": "python",
   "pygments_lexer": "ipython3",
   "version": "3.7.9"
  }
 },
 "nbformat": 4,
 "nbformat_minor": 2
}
